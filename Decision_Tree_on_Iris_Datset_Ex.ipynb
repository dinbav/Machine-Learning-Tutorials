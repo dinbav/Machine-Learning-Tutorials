{
  "nbformat": 4,
  "nbformat_minor": 0,
  "metadata": {
    "colab": {
      "name": "Decision Tree on Iris Datset Ex.ipynb",
      "provenance": [],
      "include_colab_link": true
    },
    "kernelspec": {
      "display_name": "Python 3",
      "language": "python",
      "name": "python3"
    },
    "language_info": {
      "codemirror_mode": {
        "name": "ipython",
        "version": 3
      },
      "file_extension": ".py",
      "mimetype": "text/x-python",
      "name": "python",
      "nbconvert_exporter": "python",
      "pygments_lexer": "ipython3",
      "version": "3.7.3"
    }
  },
  "cells": [
    {
      "cell_type": "markdown",
      "metadata": {
        "id": "view-in-github",
        "colab_type": "text"
      },
      "source": [
        "<a href=\"https://colab.research.google.com/github/dinbav/Machine-Learning-Tutorials/blob/main/Decision_Tree_on_Iris_Datset_Ex.ipynb\" target=\"_parent\"><img src=\"https://colab.research.google.com/assets/colab-badge.svg\" alt=\"Open In Colab\"/></a>"
      ]
    },
    {
      "cell_type": "markdown",
      "metadata": {
        "id": "vxOsyr691EM7"
      },
      "source": [
        "# Decision Tree Classification (using scikit-learn) on Iris dataset.\n",
        "### Building a model to classify and predict the species of Iris flower based on the sepal length, speal width, petal length and petal width\n",
        "\n",
        "![alt text](https://miro.medium.com/max/700/1*sJOaKrX2-PQLsI3qaVqmCQ.png)\n",
        "\n",
        "\n",
        "###please follow [this tutorial](https://www.datacamp.com/community/tutorials/decision-tree-classification-python) and implement here. \n",
        "Detailed documentation on Decision Tree Classifier is available [here](https://scikit-learn.org/stable/modules/generated/sklearn.tree.DecisionTreeClassifier.html).\n",
        "\n",
        "In this exercise will implement Decision Tree Classifier on iris dataset using scikit-learn library. Iris dataset has 50 samples for each different species of Iris flower(total of 150). For each sample we have sepal length, width and petal length and width and a species name(class/label).\n",
        "\n",
        "Features: sepal length (cm), sepal width (cm), petal length (cm), petal width (cm)\n",
        "\n",
        "Classes: setosa, versicolor, virginica\n",
        "Numerically, setosa flowers are identified by zero, versicolor by one, and virginica by two.\n",
        "\n"
      ]
    },
    {
      "cell_type": "markdown",
      "metadata": {
        "id": "HdrT1PhDApy-"
      },
      "source": [
        "##Decision Tree Classifier Building in Scikit-learn"
      ]
    },
    {
      "cell_type": "markdown",
      "metadata": {
        "id": "dD5N3xZPA11q"
      },
      "source": [
        "###Step1: Importing Required Libraries\n",
        "Let's first load the required libraries."
      ]
    },
    {
      "cell_type": "code",
      "metadata": {
        "id": "RGuOsnRkBDXA"
      },
      "source": [
        "# Load libraries\n",
        "#Import pandas\n",
        "#Import numpy\n",
        "# Import Decision Tree Classifier\n",
        "# Import train_test_split function\n",
        "#Import scikit-learn metrics module for accuracy calculation\n",
        "#your code here"
      ],
      "execution_count": null,
      "outputs": []
    },
    {
      "cell_type": "markdown",
      "metadata": {
        "id": "iWgABDSsZ-2i"
      },
      "source": [
        "###Step1: Import the required data\n",
        "Import the load_iris function form scikit-learen datasets module and create a iris Bunch object(bunch is a scikitlearn’s special object type for storing datasets and its attributes).\n"
      ]
    },
    {
      "cell_type": "code",
      "metadata": {
        "id": "exN_RwOO1ENF"
      },
      "source": [
        "#Import the load_iris function from datsets module\n",
        "#your code here\n"
      ],
      "execution_count": null,
      "outputs": []
    },
    {
      "cell_type": "code",
      "metadata": {
        "id": "mOY3Wt2L1ENI"
      },
      "source": [
        "#Create bunch object containing iris dataset and its attributes.\n",
        "#your code here\n",
        "\n"
      ],
      "execution_count": null,
      "outputs": []
    },
    {
      "cell_type": "markdown",
      "metadata": {
        "id": "Lr60Ti-rFo1j"
      },
      "source": [
        "### Step 2: Feature Selection\n",
        "Here, you need to divide given columns into two types of variables dependent(or target variable) and independent variable(or feature variables). chack [stack overflow](https://stackoverflow.com/questions/38105539/how-to-convert-a-scikit-learn-dataset-to-a-pandas-dataset) for a way to convert to pandas"
      ]
    },
    {
      "cell_type": "code",
      "metadata": {
        "id": "NUg1K4ei1ENM",
        "outputId": "3eee0001-7224-4e5d-f90d-24539f7562c6",
        "colab": {
          "base_uri": "https://localhost:8080/",
          "height": 54
        }
      },
      "source": [
        "#split dataset in features and target variable\n",
        "# store data it into pandas DataFrame objects\n",
        "#your code here\n",
        "\n",
        "\"\"\"X = pd.________(_____.data[:, :], columns = _______.feature_names[:])\n",
        "y = pd.________(_______.target, columns =[\"Species\"])\"\"\""
      ],
      "execution_count": null,
      "outputs": [
        {
          "output_type": "execute_result",
          "data": {
            "text/plain": [
              "'X = pd.________(_____.data[:, :], columns = _______.feature_names[:])\\ny = pd.________(_______.target, columns =[\"Species\"])'"
            ]
          },
          "metadata": {
            "tags": []
          },
          "execution_count": 2
        }
      ]
    },
    {
      "cell_type": "markdown",
      "metadata": {
        "id": "cJPoqTDF1ENv"
      },
      "source": [
        "# Train the Model "
      ]
    },
    {
      "cell_type": "markdown",
      "metadata": {
        "id": "ze4AGalBavWL"
      },
      "source": [
        "###Step 3: Split the data\n",
        "To understand model performance, dividing the dataset into a training set and a test set is a good strategy.\n",
        "\n",
        "Let's split the dataset by using function train_test_split(). You need to pass 3 parameters features, target, and test_set size.\n"
      ]
    },
    {
      "cell_type": "code",
      "metadata": {
        "id": "og9Ei02q1ENw",
        "outputId": "7804c126-3935-4bfa-e1f1-01272f2d312b",
        "colab": {
          "base_uri": "https://localhost:8080/",
          "height": 34
        }
      },
      "source": [
        "# Split dataset into training set and test set\n",
        "#your code here#your code here\n",
        "\"___________ = _____________(___,___,____=0.2, ______=1)\" # 80% training and 20% test"
      ],
      "execution_count": null,
      "outputs": [
        {
          "output_type": "execute_result",
          "data": {
            "text/plain": [
              "'___________ = _____________(___,___,____=0.2, ______=1)'"
            ]
          },
          "metadata": {
            "tags": []
          },
          "execution_count": 3
        }
      ]
    },
    {
      "cell_type": "markdown",
      "metadata": {
        "id": "c_ry8ON_JEW0"
      },
      "source": [
        "###  step 4: Building Decision Tree Model\n",
        "Let's create a Decision Tree Model using Scikit-learn."
      ]
    },
    {
      "cell_type": "code",
      "metadata": {
        "id": "FYEbtycE1ENy"
      },
      "source": [
        "# Create Decision Tree classifer object\n",
        "#your code here"
      ],
      "execution_count": null,
      "outputs": []
    },
    {
      "cell_type": "code",
      "metadata": {
        "id": "6W89isoi1EN0"
      },
      "source": [
        "# Train Decision Tree Classifer\n",
        "#your code here"
      ],
      "execution_count": null,
      "outputs": []
    },
    {
      "cell_type": "code",
      "metadata": {
        "id": "F1a6QtQBJRQQ"
      },
      "source": [
        "#Predict the response for test dataset\n",
        "#your code here"
      ],
      "execution_count": null,
      "outputs": []
    },
    {
      "cell_type": "markdown",
      "metadata": {
        "id": "b8YnJpI4c_8G"
      },
      "source": [
        "###Step 5: Evaluating Model\n",
        "Let's estimate, how accurately the classifier or model can predict the type of cultivars.\n",
        "\n",
        "Accuracy can be computed by comparing actual test set values and predicted values."
      ]
    },
    {
      "cell_type": "code",
      "metadata": {
        "id": "-kKveMWe1EN2"
      },
      "source": [
        "# Model Accuracy, how often is the classifier correct?\n",
        "#your code here"
      ],
      "execution_count": null,
      "outputs": []
    },
    {
      "cell_type": "markdown",
      "metadata": {
        "id": "D2L4DKWGc4FU"
      },
      "source": [
        "##Visualizing Decision Trees\n",
        "ou can use Scikit-learn's *export_graphviz* function for display the tree within a Jupyter notebook. For plotting tree, you also need to install graphviz and pydotplus.\n",
        "\n",
        "`pip install graphviz`\n",
        "\n",
        "`pip install pydotplus`\n",
        "\n",
        "*export_graphviz* function converts decision tree classifier into dot file and pydotplus convert this dot file to png or displayable form on Jupyter."
      ]
    },
    {
      "cell_type": "code",
      "metadata": {
        "id": "1hx_tV7h1EN4",
        "outputId": "742ee4e2-097b-4834-a4f6-75d18d4389bc",
        "colab": {
          "base_uri": "https://localhost:8080/",
          "height": 54
        }
      },
      "source": [
        "#Import export_graphviz\n",
        "#Import StringIO  \n",
        "#Import Image  \n",
        "#Import pydotplus\n",
        "#your code here\n",
        "#define out_file as StringIO()\n",
        "\n",
        "\"\"\"export_graphviz(clf, out_file=_______,  \n",
        "                filled=______, rounded=______,\n",
        "                special_characters=_____,feature_names = list(X.columns),class_names=iris.target_names)\n",
        "graph = _________________  \n",
        "graph.write_png('iris.png')\n",
        "Image(graph.create_png())\"\"\""
      ],
      "execution_count": null,
      "outputs": [
        {
          "output_type": "execute_result",
          "data": {
            "text/plain": [
              "\"export_graphviz(clf, out_file=_______,  \\n                filled=______, rounded=______,\\n                special_characters=_____,feature_names = list(X.columns),class_names=iris.target_names)\\ngraph = _________________  \\ngraph.write_png('iris.png')\\nImage(graph.create_png())\""
            ]
          },
          "metadata": {
            "tags": []
          },
          "execution_count": 8
        }
      ]
    },
    {
      "cell_type": "markdown",
      "metadata": {
        "id": "WWqfzPArenqO"
      },
      "source": [
        "##Optimizing Decision Tree Performance\n",
        "\n",
        "*   criterion : optional (default=”gini”) or Choose attribute selection measure: This parameter allows us to use the different-different attribute selection measure. Supported criteria are “gini” for the Gini index and “entropy” for the information gain.\n",
        "\n",
        "*   splitter : string, optional (default=”best”) or Split Strategy: This parameter allows us to choose the split strategy. Supported strategies are “best” to choose the best split and “random” to choose the best random split.\n",
        "\n",
        "\n",
        "*   max_depth : int or None, optional (default=None) or Maximum Depth of a Tree: The maximum depth of the tree. If None, then nodes are expanded until all the leaves contain less than min_samples_split samples. The higher value of maximum depth causes overfitting, and a lower value causes underfitting (Source).\n",
        "\n",
        "\n",
        "\n",
        "In Scikit-learn, optimization of decision tree classifier performed by only pre-pruning. Maximum depth of the tree can be used as a control variable for pre-pruning. In the following the example, you can plot a decision tree on the same data with max_depth=3. Other than pre-pruning parameters, You can also try other attribute selection measure such as entropy."
      ]
    },
    {
      "cell_type": "code",
      "metadata": {
        "id": "NyI2u5-NenT7"
      },
      "source": [
        "#your code here\n",
        "# Create Decision Tree classifer object max_depth=2\n",
        "\n",
        "# Train Decision Tree Classifer\n",
        "\n",
        "#Predict the response for test dataset\n",
        "\n",
        "# Model Accuracy, how often is the classifier correct?\n",
        "\n",
        "\n"
      ],
      "execution_count": null,
      "outputs": []
    },
    {
      "cell_type": "markdown",
      "metadata": {
        "id": "a7CrqBr3ffhD"
      },
      "source": [
        "###Visualizing Decision Trees\n"
      ]
    },
    {
      "cell_type": "code",
      "metadata": {
        "id": "NhGQC6beNbhL",
        "outputId": "acebaa67-9521-48ff-9154-9cb2406b9589",
        "colab": {
          "base_uri": "https://localhost:8080/",
          "height": 54
        }
      },
      "source": [
        "#Import export_graphviz\n",
        "#Import StringIO  \n",
        "#Import Image  \n",
        "#Import pydotplus\n",
        "#your code here\n",
        "#define out_file as StringIO()\n",
        "\n",
        "\"\"\"export_graphviz(clf, out_file=_______,  \n",
        "                filled=______, rounded=______,\n",
        "                special_characters=_____,feature_names = list(X.columns),class_names=iris.target_names)\n",
        "graph = _________________  \n",
        "graph.write_png('iris.png')\n",
        "Image(graph.create_png())\"\"\""
      ],
      "execution_count": null,
      "outputs": [
        {
          "output_type": "execute_result",
          "data": {
            "text/plain": [
              "\"export_graphviz(clf, out_file=_______,  \\n                filled=______, rounded=______,\\n                special_characters=_____,feature_names = list(X.columns),class_names=iris.target_names)\\ngraph = _________________  \\ngraph.write_png('iris.png')\\nImage(graph.create_png())\""
            ]
          },
          "metadata": {
            "tags": []
          },
          "execution_count": 9
        }
      ]
    },
    {
      "cell_type": "markdown",
      "metadata": {
        "id": "0oC_AzpMgV9t"
      },
      "source": [
        "##Please explain in hebrew as simple as can (for dummies) the following:\n",
        "\n",
        "\n",
        "\n",
        "1.   The results- and its meaning\n",
        "2.   Pros\n",
        "1.   Cons\n",
        "2.   Compare this model to the KNN and NB model refer to the implementation in the iris data-set\n",
        "2.   Your Conclusion and feedback\n"
      ]
    }
  ]
}