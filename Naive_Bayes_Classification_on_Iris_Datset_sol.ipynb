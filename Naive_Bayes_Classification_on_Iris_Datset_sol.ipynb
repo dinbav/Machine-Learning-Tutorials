{
  "nbformat": 4,
  "nbformat_minor": 0,
  "metadata": {
    "colab": {
      "name": "Naive Bayes Classification on Iris Datset sol.ipynb",
      "provenance": [],
      "include_colab_link": true
    },
    "kernelspec": {
      "display_name": "Python 3",
      "language": "python",
      "name": "python3"
    },
    "language_info": {
      "codemirror_mode": {
        "name": "ipython",
        "version": 3
      },
      "file_extension": ".py",
      "mimetype": "text/x-python",
      "name": "python",
      "nbconvert_exporter": "python",
      "pygments_lexer": "ipython3",
      "version": "3.7.3"
    }
  },
  "cells": [
    {
      "cell_type": "markdown",
      "metadata": {
        "id": "view-in-github",
        "colab_type": "text"
      },
      "source": [
        "<a href=\"https://colab.research.google.com/github/dinbav/Machine-Learning-Tutorials/blob/main/Naive_Bayes_Classification_on_Iris_Datset_sol.ipynb\" target=\"_parent\"><img src=\"https://colab.research.google.com/assets/colab-badge.svg\" alt=\"Open In Colab\"/></a>"
      ]
    },
    {
      "cell_type": "markdown",
      "metadata": {
        "id": "vxOsyr691EM7"
      },
      "source": [
        "# Naive Bayes (NB) Classification (using scikit-learn) on Iris dataset.\n",
        "### Building a model to classify and predict the species of Iris flower based on the sepal length, speal width, petal length and petal width\n",
        "\n",
        "###please follow [this tutorial](https://www.datacamp.com/community/tutorials/naive-bayes-scikit-learn) and implement here. \n",
        "Detailed documentation on Naive Bayes Classification is available [here](https://scikit-learn.org/stable/modules/naive_bayes.html).\n",
        "\n",
        "In this exercise will implement Naive Bayes Classification on iris dataset using scikit-learn library. Iris dataset has 50 samples for each different species of Iris flower(total of 150). For each sample we have sepal length, width and petal length and width and a species name(class/label).\n",
        "\n",
        "\n",
        "Your task is to build a Naive Bayes Classification model which classifies the new species based on the sepal and petal measurements. Iris dataset is available in scikit-learn and we can make use of it build our Naive Bayes Classification."
      ]
    },
    {
      "cell_type": "code",
      "metadata": {
        "id": "z-dy8HjTbVdC",
        "outputId": "4e5dc1f2-da19-4559-9603-e123f34c25b6",
        "colab": {
          "base_uri": "https://localhost:8080/",
          "height": 83
        }
      },
      "source": [
        "import IPython\n",
        "url = 'https://res.cloudinary.com/dyd911kmh/image/upload/f_auto,q_auto:best/v1543836882/image_3_ijznzs.png'\n",
        "IPython.display.Image(url, width = 250)"
      ],
      "execution_count": null,
      "outputs": [
        {
          "output_type": "execute_result",
          "data": {
            "image/png": "[encoded data removed]",
            "text/plain": [
              "<IPython.core.display.Image object>"
            ]
          },
          "metadata": {
            "tags": [],
            "image/png": {
              "width": 250
            }
          },
          "execution_count": 3
        }
      ]
    },
    {
      "cell_type": "markdown",
      "metadata": {
        "id": "iWgABDSsZ-2i"
      },
      "source": [
        "###Step1: Import the required data and check the features.\n",
        "Import the load_iris function form scikit-learen datasets module and create a iris Bunch object(bunch is a scikitlearn’s special object type for storing datasets and its attributes).\n"
      ]
    },
    {
      "cell_type": "markdown",
      "metadata": {
        "id": "LibhfGaA1ENE"
      },
      "source": [
        "## Load the Iris data set and check the features"
      ]
    },
    {
      "cell_type": "code",
      "metadata": {
        "id": "exN_RwOO1ENF"
      },
      "source": [
        "#Import the load_iris function from datsets module\n",
        "from sklearn.datasets import load_iris"
      ],
      "execution_count": null,
      "outputs": []
    },
    {
      "cell_type": "code",
      "metadata": {
        "id": "mOY3Wt2L1ENI"
      },
      "source": [
        "#Create bunch object containing iris dataset and its attributes.\n",
        "iris = load_iris()"
      ],
      "execution_count": null,
      "outputs": []
    },
    {
      "cell_type": "markdown",
      "metadata": {
        "id": "xrpJgw2BaG8R"
      },
      "source": [
        "####Exploring Data\n",
        "You can print the target and feature names, to make sure you have the right dataset, as such:\n"
      ]
    },
    {
      "cell_type": "code",
      "metadata": {
        "id": "NUg1K4ei1ENM",
        "outputId": "0b77116c-d64c-496b-f57c-28328c71ca72",
        "colab": {
          "base_uri": "https://localhost:8080/",
          "height": 34
        }
      },
      "source": [
        "type(iris)"
      ],
      "execution_count": null,
      "outputs": [
        {
          "output_type": "execute_result",
          "data": {
            "text/plain": [
              "sklearn.utils.Bunch"
            ]
          },
          "metadata": {
            "tags": []
          },
          "execution_count": 6
        }
      ]
    },
    {
      "cell_type": "markdown",
      "metadata": {
        "id": "m0qvReKaaQBx"
      },
      "source": [
        "Each observation represents one flower and 4 columns represents 4 measurements.We can see the features(measures) under ‘data’ attribute, where as labels under ‘features_names’. As we can see below, labels/responses are encoded as 0,1 and 2. Because the features and repose should be numeric (Numpy arrays) for scikit-learn models and they should have a specific shape."
      ]
    },
    {
      "cell_type": "code",
      "metadata": {
        "id": "fNiLYd-C1ENU",
        "outputId": "de8b4339-20b5-4181-87e4-73856bf9e8c2",
        "colab": {
          "base_uri": "https://localhost:8080/",
          "height": 34
        }
      },
      "source": [
        "#Names of 4 features (column names)\n",
        "print(iris.feature_names)"
      ],
      "execution_count": null,
      "outputs": [
        {
          "output_type": "stream",
          "text": [
            "['sepal length (cm)', 'sepal width (cm)', 'petal length (cm)', 'petal width (cm)']\n"
          ],
          "name": "stdout"
        }
      ]
    },
    {
      "cell_type": "code",
      "metadata": {
        "id": "Y9XZFguQ1ENY",
        "outputId": "ebcec011-865b-4448-f578-73f2249e5ac0",
        "colab": {
          "base_uri": "https://localhost:8080/",
          "height": 102
        }
      },
      "source": [
        "#Integers representing the species: 0 = setosa, 1=versicolor, 2=virginica\n",
        "print(iris.target)"
      ],
      "execution_count": null,
      "outputs": [
        {
          "output_type": "stream",
          "text": [
            "[0 0 0 0 0 0 0 0 0 0 0 0 0 0 0 0 0 0 0 0 0 0 0 0 0 0 0 0 0 0 0 0 0 0 0 0 0\n",
            " 0 0 0 0 0 0 0 0 0 0 0 0 0 1 1 1 1 1 1 1 1 1 1 1 1 1 1 1 1 1 1 1 1 1 1 1 1\n",
            " 1 1 1 1 1 1 1 1 1 1 1 1 1 1 1 1 1 1 1 1 1 1 1 1 1 1 2 2 2 2 2 2 2 2 2 2 2\n",
            " 2 2 2 2 2 2 2 2 2 2 2 2 2 2 2 2 2 2 2 2 2 2 2 2 2 2 2 2 2 2 2 2 2 2 2 2 2\n",
            " 2 2]\n"
          ],
          "name": "stdout"
        }
      ]
    },
    {
      "cell_type": "markdown",
      "metadata": {
        "id": "MoGSbc6OagzO"
      },
      "source": [
        "Let's check records of the target set."
      ]
    },
    {
      "cell_type": "code",
      "metadata": {
        "id": "iMjwetMo1ENb",
        "outputId": "657fec15-e94d-43e5-8b7c-053c61a77e7b",
        "colab": {
          "base_uri": "https://localhost:8080/",
          "height": 34
        }
      },
      "source": [
        "# 3 classes of target\n",
        "print(iris.target_names)"
      ],
      "execution_count": null,
      "outputs": [
        {
          "output_type": "stream",
          "text": [
            "['setosa' 'versicolor' 'virginica']\n"
          ],
          "name": "stdout"
        }
      ]
    },
    {
      "cell_type": "code",
      "metadata": {
        "id": "BDkNANkN1ENf",
        "outputId": "59dd21ad-f347-4a7e-8c35-4104c417f482",
        "colab": {
          "base_uri": "https://localhost:8080/",
          "height": 51
        }
      },
      "source": [
        "print(type(iris.data))\n",
        "print(type(iris.target))"
      ],
      "execution_count": null,
      "outputs": [
        {
          "output_type": "stream",
          "text": [
            "<class 'numpy.ndarray'>\n",
            "<class 'numpy.ndarray'>\n"
          ],
          "name": "stdout"
        }
      ]
    },
    {
      "cell_type": "markdown",
      "metadata": {
        "id": "skGCLUYrapzj"
      },
      "source": [
        "check the shape of the dataset using shape.\n"
      ]
    },
    {
      "cell_type": "code",
      "metadata": {
        "id": "99J-Xb3Y1ENj",
        "outputId": "9e88874a-825f-43ab-c5a9-36d6b191727a",
        "colab": {
          "base_uri": "https://localhost:8080/",
          "height": 34
        }
      },
      "source": [
        "# we have a total of 150 observations and 4 features\n",
        "print(iris.data.shape)"
      ],
      "execution_count": null,
      "outputs": [
        {
          "output_type": "stream",
          "text": [
            "(150, 4)\n"
          ],
          "name": "stdout"
        }
      ]
    },
    {
      "cell_type": "code",
      "metadata": {
        "id": "AarA9B-B1ENm"
      },
      "source": [
        "# Feature matrix in a object named X\n",
        "X = iris.data\n",
        "# response vector in a object named y\n",
        "y = iris.target"
      ],
      "execution_count": null,
      "outputs": []
    },
    {
      "cell_type": "code",
      "metadata": {
        "id": "4VIX4wxI1ENr",
        "outputId": "3b7db8d3-44ac-474b-8711-f0b22d733498",
        "colab": {
          "base_uri": "https://localhost:8080/",
          "height": 51
        }
      },
      "source": [
        "print(X.shape)\n",
        "print(y.shape)"
      ],
      "execution_count": null,
      "outputs": [
        {
          "output_type": "stream",
          "text": [
            "(150, 4)\n",
            "(150,)\n"
          ],
          "name": "stdout"
        }
      ]
    },
    {
      "cell_type": "markdown",
      "metadata": {
        "id": "cJPoqTDF1ENv"
      },
      "source": [
        "# Train the Model "
      ]
    },
    {
      "cell_type": "markdown",
      "metadata": {
        "id": "ze4AGalBavWL"
      },
      "source": [
        "###Step 2: Split the data and Train the Model.\n",
        "First, you separate the columns into dependent and independent variables(or features and label). Then you split those variables into train and test set."
      ]
    },
    {
      "cell_type": "code",
      "metadata": {
        "id": "BvweTSF_dScd",
        "outputId": "27affbf8-0b5f-43a4-d062-5101900b28a1",
        "colab": {
          "base_uri": "https://localhost:8080/",
          "height": 193
        }
      },
      "source": [
        "import IPython\n",
        "url = 'https://res.cloudinary.com/dyd911kmh/image/upload/f_auto,q_auto:best/v1543836883/image_6_cfpjpr.png'\n",
        "IPython.display.Image(url, width = 250)"
      ],
      "execution_count": null,
      "outputs": [
        {
          "output_type": "execute_result",
          "data": {
            "image/png": "[encoded data removed]",
            "text/plain": [
              "<IPython.core.display.Image object>"
            ]
          },
          "metadata": {
            "tags": [],
            "image/png": {
              "width": 250
            }
          },
          "execution_count": 15
        }
      ]
    },
    {
      "cell_type": "code",
      "metadata": {
        "id": "og9Ei02q1ENw"
      },
      "source": [
        "# splitting the data into training and test sets (80:20)\n",
        "from sklearn.model_selection import train_test_split\n",
        "X_train,X_test,y_train,y_test = train_test_split(X,y,test_size=0.2,random_state=4)"
      ],
      "execution_count": null,
      "outputs": []
    },
    {
      "cell_type": "code",
      "metadata": {
        "id": "FYEbtycE1ENy",
        "outputId": "79af8904-9999-470c-beef-5550c24b710a",
        "colab": {
          "base_uri": "https://localhost:8080/",
          "height": 51
        }
      },
      "source": [
        "#shape of train and test objects\n",
        "print(X_train.shape)\n",
        "print(X_test.shape)"
      ],
      "execution_count": null,
      "outputs": [
        {
          "output_type": "stream",
          "text": [
            "(120, 4)\n",
            "(30, 4)\n"
          ],
          "name": "stdout"
        }
      ]
    },
    {
      "cell_type": "code",
      "metadata": {
        "id": "6W89isoi1EN0",
        "outputId": "334d5f45-8d89-43cf-c60f-4261532cbc53",
        "colab": {
          "base_uri": "https://localhost:8080/",
          "height": 51
        }
      },
      "source": [
        "# shape of new y objects\n",
        "print(y_train.shape)\n",
        "print(y_test.shape)"
      ],
      "execution_count": null,
      "outputs": [
        {
          "output_type": "stream",
          "text": [
            "(120,)\n",
            "(30,)\n"
          ],
          "name": "stdout"
        }
      ]
    },
    {
      "cell_type": "markdown",
      "metadata": {
        "id": "b8YnJpI4c_8G"
      },
      "source": [
        "###Model Generation\n",
        "After splitting, you will generate a random forest model on the training set and perform prediction on test set features."
      ]
    },
    {
      "cell_type": "code",
      "metadata": {
        "id": "-kKveMWe1EN2"
      },
      "source": [
        "#Import Gaussian Naive Bayes model\n",
        "from sklearn.naive_bayes import GaussianNB\n",
        "\n",
        "#Create a Gaussian Classifier\n",
        "gnb = GaussianNB()\n",
        "\n",
        "#Train the model using the training sets\n",
        "gnb.fit(X_train, y_train)\n",
        "\n",
        "#Predict the response for test dataset\n",
        "y_pred = gnb.predict(X_test)"
      ],
      "execution_count": null,
      "outputs": []
    },
    {
      "cell_type": "markdown",
      "metadata": {
        "id": "D2L4DKWGc4FU"
      },
      "source": [
        "####Evaluating Model\n",
        "After model generation, check the accuracy using actual and predicted values."
      ]
    },
    {
      "cell_type": "code",
      "metadata": {
        "id": "1hx_tV7h1EN4",
        "outputId": "96b22690-b8da-44c2-b476-bc3d0c9f8276",
        "colab": {
          "base_uri": "https://localhost:8080/",
          "height": 34
        }
      },
      "source": [
        "#Import scikit-learn metrics module for accuracy calculation\n",
        "from sklearn import metrics\n",
        "\n",
        "# Model Accuracy, how often is the classifier correct?\n",
        "print(\"Accuracy:\",metrics.accuracy_score(y_test, y_pred))"
      ],
      "execution_count": null,
      "outputs": [
        {
          "output_type": "stream",
          "text": [
            "Accuracy: 0.9666666666666667\n"
          ],
          "name": "stdout"
        }
      ]
    },
    {
      "cell_type": "markdown",
      "metadata": {
        "id": "WWqfzPArenqO"
      },
      "source": [
        "##Making Predictions\n",
        "Here we will value expected VS predicted results "
      ]
    },
    {
      "cell_type": "code",
      "metadata": {
        "id": "NyI2u5-NenT7"
      },
      "source": [
        "gnb.fit(iris.data, iris.target)\n",
        "\n",
        "expected = iris.target\n",
        "predicted = gnb.predict(iris.data)"
      ],
      "execution_count": null,
      "outputs": []
    },
    {
      "cell_type": "markdown",
      "metadata": {
        "id": "a7CrqBr3ffhD"
      },
      "source": [
        "###Getting Accuracy and Statistics\n",
        "Here we will create a classification report that contains the various statistics required to judge a model. After that, we will create a confusion matrix which will give us a clear idea of the accuracy and the fitting of the model."
      ]
    },
    {
      "cell_type": "markdown",
      "metadata": {
        "id": "ydVsHA4Sf0yj"
      },
      "source": [
        "####Classification Report:\n",
        "for more info you can look[ here](https://scikit-learn.org/stable/modules/generated/sklearn.metrics.classification_report.html)"
      ]
    },
    {
      "cell_type": "code",
      "metadata": {
        "id": "fQy_hhIffkl0",
        "outputId": "7c6d31e6-61b1-4c89-adf2-e7034be23256",
        "colab": {
          "base_uri": "https://localhost:8080/",
          "height": 187
        }
      },
      "source": [
        "print(metrics.classification_report(expected, predicted))\n"
      ],
      "execution_count": null,
      "outputs": [
        {
          "output_type": "stream",
          "text": [
            "              precision    recall  f1-score   support\n",
            "\n",
            "           0       1.00      1.00      1.00        50\n",
            "           1       0.94      0.94      0.94        50\n",
            "           2       0.94      0.94      0.94        50\n",
            "\n",
            "    accuracy                           0.96       150\n",
            "   macro avg       0.96      0.96      0.96       150\n",
            "weighted avg       0.96      0.96      0.96       150\n",
            "\n"
          ],
          "name": "stdout"
        }
      ]
    },
    {
      "cell_type": "markdown",
      "metadata": {
        "id": "rdJd-KgjfuUd"
      },
      "source": [
        "####Confusion Matrix:\n",
        "for more info you can see [documentation](https://scikit-learn.org/stable/modules/generated/sklearn.metrics.confusion_matrix.html) or [here ](https://towardsdatascience.com/understanding-confusion-matrix-a9ad42dcfd62)."
      ]
    },
    {
      "cell_type": "code",
      "metadata": {
        "id": "rIt0n8pQfuyb",
        "outputId": "9f1a149b-84dd-44c5-a8f9-74cfd0050889",
        "colab": {
          "base_uri": "https://localhost:8080/",
          "height": 68
        }
      },
      "source": [
        "print(metrics.confusion_matrix(expected, predicted))"
      ],
      "execution_count": null,
      "outputs": [
        {
          "output_type": "stream",
          "text": [
            "[[50  0  0]\n",
            " [ 0 47  3]\n",
            " [ 0  3 47]]\n"
          ],
          "name": "stdout"
        }
      ]
    },
    {
      "cell_type": "markdown",
      "metadata": {
        "id": "0oC_AzpMgV9t"
      },
      "source": [
        "##Please explain in hebrew as simple as can (for dummies) the following:\n",
        "\n",
        "\n",
        "\n",
        "1.   The results- and its meaning\n",
        "2.   NB Advantages\n",
        "1.   NB Disadvantages\n",
        "2.   Compare the NB model to the KNN model refer to the implementation in the iris data-set\n",
        "2.   Your Conclusion and feedback\n"
      ]
    }
  ]
}